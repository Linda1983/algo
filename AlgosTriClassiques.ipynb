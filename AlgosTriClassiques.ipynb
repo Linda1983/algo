{
 "cells": [
  {
   "cell_type": "markdown",
   "metadata": {},
   "source": [
    "# 0 Mise en place des fonctions de travail "
   ]
  },
  {
   "cell_type": "code",
   "execution_count": null,
   "metadata": {},
   "outputs": [],
   "source": []
  },
  {
   "cell_type": "code",
   "execution_count": null,
   "metadata": {},
   "outputs": [],
   "source": []
  },
  {
   "cell_type": "code",
   "execution_count": 15,
   "metadata": {},
   "outputs": [],
   "source": [
    "import random\n",
    "\n",
    "def generate_random_array(debug=False, N=21):\n",
    "    \"\"\"Renvoie un tableau contenant toutes les valeurs entières de 0 (inclus)\n",
    "    à N (exclus) rangées dans un ordre aléatoire\n",
    "\n",
    "    Args:\n",
    "        debug (boolean): quand debug est vrai, la fonction renvoie toujours le\n",
    "                         même tableau afin de simplifier le débogage de vos\n",
    "                         algorithmes de tri\n",
    "        N (int): la taille du tableau à renvoyer\n",
    "\n",
    "    Returns:\n",
    "        list[int]: un tableau d'entiers, de taille N, non ordonné\n",
    "    \"\"\"\n",
    "\n",
    "    if debug:\n",
    "        return [3, 9, 7, 1, 6, 2, 8, 4, 5, 0]\n",
    "\n",
    "    array = list(range(0, N))\n",
    "    random.shuffle(array)\n",
    "\n",
    "    return array"
   ]
  },
  {
   "cell_type": "code",
   "execution_count": null,
   "metadata": {},
   "outputs": [],
   "source": [
    "\n",
    "\n",
    "\n",
    "\n",
    "\n",
    "    \n",
    "\n",
    "    \n",
    "\n",
    "\n",
    "\n",
    "\n"
   ]
  },
  {
   "cell_type": "code",
   "execution_count": 16,
   "metadata": {},
   "outputs": [
    {
     "name": "stdout",
     "output_type": "stream",
     "text": [
      "[3, 5, 1, 20, 9, 18, 19, 12, 15, 0, 6, 10, 2, 7, 11, 14, 8, 17, 16, 4, 13]\n",
      "[3, 9, 7, 1, 6, 2, 8, 4, 5, 0]\n",
      "[30, 24, 16, 1, 20, 19, 23, 25, 7, 22, 14, 0, 21, 12, 9, 8, 4, 6, 15, 26, 27, 3, 17, 28, 2, 10, 11, 29, 5, 18, 13]\n"
     ]
    }
   ],
   "source": [
    "# Exemple d'utilisation de la fonction precedente\n",
    "\n",
    "print(generate_random_array()) # Retourne un tableau avec des nombres naturels allant de 0 a 20\n",
    "print(generate_random_array(True)) # Retourne le tableau [3, 9, 7, 1, 6, 2, 8, 4, 5, 0]\n",
    "print(generate_random_array(N=31)) # Des nombres naturels allant de 0 a 30"
   ]
  },
  {
   "cell_type": "code",
   "execution_count": 17,
   "metadata": {},
   "outputs": [
    {
     "ename": "NameError",
     "evalue": "name 'j' is not defined",
     "output_type": "error",
     "traceback": [
      "\u001b[0;31m---------------------------------------------------------------------------\u001b[0m",
      "\u001b[0;31mNameError\u001b[0m                                 Traceback (most recent call last)",
      "Cell \u001b[0;32mIn[17], line 9\u001b[0m\n\u001b[1;32m      7\u001b[0m \u001b[38;5;66;03m#tab = [10,5,90,56,34,7,8,12,4,6,1,2,9]\u001b[39;00m\n\u001b[1;32m      8\u001b[0m liste \u001b[38;5;241m=\u001b[39m [\u001b[38;5;241m0\u001b[39m,\u001b[38;5;241m5\u001b[39m,\u001b[38;5;241m4\u001b[39m,\u001b[38;5;241m6\u001b[39m,\u001b[38;5;241m10\u001b[39m,\u001b[38;5;241m9\u001b[39m,\u001b[38;5;241m15\u001b[39m]\n\u001b[0;32m----> 9\u001b[0m echanger(liste, \u001b[38;5;241m1\u001b[39m, \u001b[38;5;241m2\u001b[39m)\n\u001b[1;32m     10\u001b[0m echanger(liste, \u001b[38;5;241m4\u001b[39m, \u001b[38;5;241m5\u001b[39m)\n\u001b[1;32m     11\u001b[0m \u001b[38;5;28mprint\u001b[39m(liste) \u001b[38;5;66;03m# [0,5,4,6,10,9,15]\u001b[39;00m\n",
      "Cell \u001b[0;32mIn[17], line 4\u001b[0m, in \u001b[0;36mechanger\u001b[0;34m(tab, index1, index2)\u001b[0m\n\u001b[1;32m      3\u001b[0m \u001b[38;5;28;01mdef\u001b[39;00m \u001b[38;5;21mechanger\u001b[39m(tab, index1, index2):\n\u001b[0;32m----> 4\u001b[0m     tab[i],tab[j] \u001b[38;5;241m=\u001b[39m tab[j],tab[i]\n",
      "\u001b[0;31mNameError\u001b[0m: name 'j' is not defined"
     ]
    }
   ],
   "source": [
    "# astuce: peut se réaliser en une opération\n",
    "\n",
    "def echanger(tab, index1, index2):\n",
    "    tab[i],tab[j] = tab[j],tab[i]\n",
    "    \n",
    "\n",
    "#tab = [10,5,90,56,34,7,8,12,4,6,1,2,9]\n",
    "liste = [0,5,4,6,10,9,15]\n",
    "echanger(liste, 1, 2)\n",
    "echanger(liste, 4, 5)\n",
    "print(liste) # [0,5,4,6,10,9,15]\n",
    "        \n",
    "    \n",
    "def swap_2(tab,i,j):\n",
    "    if tab[i] > tab[j] :\n",
    "        tab[i],tab[j] = tab[j],tab[i]\n",
    "\n",
    "swap_2(liste,2,3)\n",
    "print(liste)  \n",
    "    \n",
    "\"\"\"Échange la place des éléments aux indices i et j du tableau\"\"\"\n",
    "    \n",
    "#raise NotImplementedError"
   ]
  },
  {
   "cell_type": "markdown",
   "metadata": {},
   "source": [
    "# 1 Les tris classiques "
   ]
  },
  {
   "attachments": {},
   "cell_type": "markdown",
   "metadata": {},
   "source": [
    "**ATTENTION** Le pseudo-code n'est pas du code. C'est une façon de représenter l'algorithme comme si c'était du code. Il n'y a pas de norme, il n'y a pas de format particulier. Il peut être écrit dans la langue que vous voulez et se rapprocher de la syntaxe du code de votre choix.  \n",
    "Ici, nous sommes sous Python, qui est un code facile à lire et à écrire à condition de faire attention aux indentations. Essayons d'écrire un pseudo code proche d'une syntaxe python sans trop en faire (ce n'est pas du code !!)"
   ]
  },
  {
   "cell_type": "markdown",
   "metadata": {},
   "source": [
    "## 1.1 Tri à bulles"
   ]
  },
  {
   "attachments": {},
   "cell_type": "markdown",
   "metadata": {},
   "source": [
    "**Un pseudocode possible** *(source : Wikipedia, réécrit sous format python)*\n",
    "\n",
    "```\n",
    "procedure tri_à_bulles(Tableau T):\n",
    "   pour i allant de (taille de T)-1 à 1:\n",
    "\n",
    "       pour j allant de 0 à i-1:\n",
    "           si T[j+1] < T[j] alors:\n",
    "               échanger(T, j+1, j)\n",
    "```\n",
    "\n",
    "   pour i allant de 4-1 à 1:\n",
    "        pour j allant de 0 à 2:\n",
    "           si T[3] < T[2] alors:\n",
    "               échanger(T, 2, 1)\n",
    "\n"
   ]
  },
  {
   "cell_type": "code",
   "execution_count": 34,
   "metadata": {},
   "outputs": [
    {
     "name": "stdout",
     "output_type": "stream",
     "text": [
      "[2, 5, 7, 15, 17, 20, 90]\n"
     ]
    }
   ],
   "source": [
    "\tdef swap_3(tab) : \n",
    "\t    for i in range((len(tab)-1),1,-1):\n",
    "\t        for j in range(0,len(tab)-1): \n",
    "                if tab[j] > tab[j+1]:\n",
    "                    tab[j],tab[j+1] = tab[j+1],tab[j]\n",
    "\t     \n",
    "\t        \n",
    "\t        \n",
    "\t            \n",
    "\t            \n",
    "liste = [17,20,5,90,2,7,15]\n",
    "swap_3(liste)\n",
    "print(liste)\n",
    "    \n",
    "    \n",
    "    \n",
    "    \n",
    "    \n",
    "    \n",
    "\n",
    "    "
   ]
  },
  {
   "cell_type": "code",
   "execution_count": null,
   "metadata": {},
   "outputs": [],
   "source": [
    "def bubble(A):\n",
    "    \"\"\"Trie le tableau en déplaçant les plus grosses valeurs vers la fin du\n",
    "    tableau, un peu comme des bulles dans l'eau qui remonteraient à la\n",
    "    surface\"\"\"\n",
    "\n",
    "    raise NotImplementedError"
   ]
  },
  {
   "cell_type": "code",
   "execution_count": null,
   "metadata": {},
   "outputs": [],
   "source": [
    "bubble(generate_random_array())"
   ]
  },
  {
   "cell_type": "markdown",
   "metadata": {},
   "source": [
    "## 1.2 Insertion"
   ]
  },
  {
   "attachments": {},
   "cell_type": "markdown",
   "metadata": {},
   "source": [
    "**Un pseudocode possible** *(source : Wikipedia réécrit sous format )*\n",
    "\n",
    "```\n",
    "procédure tri_insertion(tableau T, entier n):\n",
    "\n",
    "  pour i de 1 à n - 1:\n",
    "        # mémoriser T[i] dans x\n",
    "        x = T[i]                            \n",
    "\n",
    "        j = i                               \n",
    "        tant que j > 0 et T[j - 1] > x:\n",
    "                 T[j] = T[j - 1]\n",
    "                 j = j - 1\n",
    "\n",
    "        # placer x dans le \"trou\" laissé par le décalage\n",
    "        T[j] = x \n",
    "```"
   ]
  },
  {
   "cell_type": "code",
   "execution_count": null,
   "metadata": {},
   "outputs": [],
   "source": [
    "def insertion(A):\n",
    "    \"\"\"Trie le tableau en plaçant l'élément courant à la bonne place dans\n",
    "    le sous-tableau déjà trié\"\"\"\n",
    "\n",
    "    raise NotImplementedError\n"
   ]
  },
  {
   "cell_type": "code",
   "execution_count": null,
   "metadata": {},
   "outputs": [],
   "source": [
    "insertion(generate_random_array())"
   ]
  },
  {
   "cell_type": "markdown",
   "metadata": {},
   "source": [
    "## 1.3 Selection"
   ]
  },
  {
   "attachments": {},
   "cell_type": "markdown",
   "metadata": {},
   "source": [
    "**Un pseudocode possible** *(source : Wikipedia, réécrit sous format python)*\n",
    "\n",
    "```\n",
    "procédure tri_selection(tableau t, entier n):\n",
    "  pour i de 0 à n - 2:\n",
    "      min = i       \n",
    "      pour j de i + 1 à n - 1:\n",
    "          si t[j] < t[min]:\n",
    "            min = j\n",
    "      si min ≠ i,\n",
    "          échanger(t, i, min)\n",
    "```"
   ]
  },
  {
   "cell_type": "code",
   "execution_count": null,
   "metadata": {},
   "outputs": [],
   "source": [
    "def selection(A):\n",
    "    \"\"\"Trie le tableau en cherchant le plus petit élément à mettre dans la\n",
    "    première case, puis le second plus petit à mettre dans la seconde case,\n",
    "    etc\"\"\"\n",
    "    \n",
    "    raise NotImplementedError"
   ]
  },
  {
   "cell_type": "code",
   "execution_count": null,
   "metadata": {},
   "outputs": [],
   "source": [
    "selection(generate_random_array())"
   ]
  },
  {
   "cell_type": "code",
   "execution_count": 36,
   "metadata": {},
   "outputs": [
    {
     "name": "stdout",
     "output_type": "stream",
     "text": [
      "[2, 5, 7, 15, 17, 20, 90]\n"
     ]
    }
   ],
   "source": [
    "\tdef tri_selection(tab) :\n",
    "\t    n = len(tab)\n",
    "\t    for i in range(0, len(tab) -1):\n",
    "\t        min = i\n",
    "\t        for j in range((i+1),n):\n",
    "\t            if tab[j] < tab[min]:\n",
    "\t                min = j\n",
    "\t        if min != i:\n",
    "\t            tab[min],tab[i] = tab[i],tab[min]\n",
    "\t     \n",
    "\t                \n",
    "\t                \n",
    "\t                \n",
    "liste = [17,20,5,90,2,7,15]\n",
    "tri_selection(liste)\n",
    "print(liste)"
   ]
  },
  {
   "cell_type": "code",
   "execution_count": null,
   "metadata": {},
   "outputs": [],
   "source": []
  },
  {
   "cell_type": "code",
   "execution_count": null,
   "metadata": {},
   "outputs": [],
   "source": []
  }
 ],
 "metadata": {
  "kernelspec": {
   "display_name": "Python 3 (ipykernel)",
   "language": "python",
   "name": "python3"
  },
  "language_info": {
   "codemirror_mode": {
    "name": "ipython",
    "version": 3
   },
   "file_extension": ".py",
   "mimetype": "text/x-python",
   "name": "python",
   "nbconvert_exporter": "python",
   "pygments_lexer": "ipython3",
   "version": "3.11.7"
  }
 },
 "nbformat": 4,
 "nbformat_minor": 4
}
